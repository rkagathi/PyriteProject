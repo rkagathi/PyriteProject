{
 "cells": [
  {
   "cell_type": "code",
   "execution_count": 201,
   "metadata": {},
   "outputs": [],
   "source": [
    "import pandas as pd\n",
    "import tweepy\n",
    "import time\n",
    "import json\n",
    "# from replies import *\n",
    "from pprint import pprint\n",
    "# from config import consumer_key, consumer_secret, access_token, access_token_secret\n",
    "# Import and Initialize Sentiment Analyzer\n",
    "from vaderSentiment.vaderSentiment import SentimentIntensityAnalyzer\n",
    "analyzer = SentimentIntensityAnalyzer()\n",
    "consumer_key = f'oypRxofLOoARuFD61NQ8gZlhK'\n",
    "consumer_secret = f'F4qJiwciKfhmiPrcWJTJ0dLhx94PaBmRhSXbAoZqUH8MxgQUeN'\n",
    "access_token = f'998710477411835904-eQYIo9recCc1JzqaaHjiL03bzWkR1Vx'\n",
    "access_token_secret = f'7JZmaIXCDYMOauLJhcSm6S5U5IbxkMOUkCXncNdpEuvVu'"
   ]
  },
  {
   "cell_type": "code",
   "execution_count": 202,
   "metadata": {},
   "outputs": [],
   "source": [
    "# Setup Tweepy API Authentication\n",
    "auth = tweepy.OAuthHandler(consumer_key, consumer_secret)\n",
    "auth.set_access_token(access_token, access_token_secret)\n",
    "api = tweepy.API(auth, parser=tweepy.parsers.JSONParser())"
   ]
  },
  {
   "cell_type": "code",
   "execution_count": 203,
   "metadata": {},
   "outputs": [],
   "source": [
    "#  state_fn = [\"Alabama\", \"Alaska\", \"Arizona\", \"Arkansas\", \"California\", \"Colorado\", \"Connecticut\", \"DC\", \"Delaware\", \"Florida\", \"Georgia\", \n",
    "#            \"Hawaii\", \"Idaho\", \"Illinois\", \"Indiana\", \"Iowa\", \"Kansas\", \"Kentucky\", \"Louisiana\", \"Maine\", \"Maryland\", \n",
    "#            \"Massachusetts\", \"Michigan\", \"Minnesota\", \"Mississippi\", \"Missouri\", \"Montana\", \"Nebraska\", \"Nevada\", \"New Hampshire\", \"New Jersey\", \n",
    "#            \"New Mexico\", \"New York\", \"North Carolina\", \"North Dakota\", \"Ohio\", \"Oklahoma\", \"Oregon\", \"Pennsylvania\", \"Rhode Island\", \"South Carolina\", \n",
    "#            \"South Dakota\", \"Tennessee\", \"Texas\", \"Utah\", \"Vermont\", \"Virginia\", \"Washingtion\", \"West Virginia\", \"Wyoming\"]"
   ]
  },
  {
   "cell_type": "code",
   "execution_count": 204,
   "metadata": {},
   "outputs": [],
   "source": [
    "states = [\"AL\", \"AK\", \"AZ\", \"AR\", \"CA\", \"CO\", \"CT\", \"DC\", \"DE\", \"FL\", \"GA\", \n",
    "          \"HI\", \"ID\", \"IL\", \"IN\", \"IA\", \"KS\", \"KY\", \"LA\", \"ME\", \"MD\", \n",
    "          \"MA\", \"MI\", \"MN\", \"MS\", \"MO\", \"MT\", \"NE\", \"NV\", \"NH\", \"NJ\", \n",
    "          \"NM\", \"NY\", \"NC\", \"ND\", \"OH\", \"OK\", \"OR\", \"PA\", \"RI\", \"SC\", \n",
    "          \"SD\", \"TN\", \"TX\", \"UT\", \"VT\", \"VA\", \"WA\", \"WV\", \"WI\", \"WY\"]"
   ]
  },
  {
   "cell_type": "code",
   "execution_count": 218,
   "metadata": {},
   "outputs": [
    {
     "ename": "RateLimitError",
     "evalue": "[{'message': 'Rate limit exceeded', 'code': 88}]",
     "output_type": "error",
     "traceback": [
      "\u001b[0;31m---------------------------------------------------------------------------\u001b[0m",
      "\u001b[0;31mRateLimitError\u001b[0m                            Traceback (most recent call last)",
      "\u001b[0;32m<ipython-input-218-a869f045ef79>\u001b[0m in \u001b[0;36m<module>\u001b[0;34m()\u001b[0m\n\u001b[1;32m     17\u001b[0m \u001b[0;31m#             if reply.get('coordinates') != None:\u001b[0m\u001b[0;34m\u001b[0m\u001b[0;34m\u001b[0m\u001b[0m\n\u001b[1;32m     18\u001b[0m             \u001b[0mreplies_list\u001b[0m\u001b[0;34m.\u001b[0m\u001b[0mappend\u001b[0m\u001b[0;34m(\u001b[0m\u001b[0mreply\u001b[0m\u001b[0;34m)\u001b[0m\u001b[0;34m\u001b[0m\u001b[0m\n\u001b[0;32m---> 19\u001b[0;31m         \u001b[0mreplies\u001b[0m \u001b[0;34m=\u001b[0m \u001b[0mapi\u001b[0m\u001b[0;34m.\u001b[0m\u001b[0msearch\u001b[0m\u001b[0;34m(\u001b[0m\u001b[0mq\u001b[0m\u001b[0;34m=\u001b[0m\u001b[0;34m'to:@realDonaldTrump'\u001b[0m\u001b[0;34m,\u001b[0m\u001b[0msince_id\u001b[0m\u001b[0;34m=\u001b[0m\u001b[0mreply\u001b[0m\u001b[0;34m.\u001b[0m\u001b[0mget\u001b[0m\u001b[0;34m(\u001b[0m\u001b[0;34m'id'\u001b[0m\u001b[0;34m)\u001b[0m\u001b[0;34m,\u001b[0m \u001b[0mcount\u001b[0m\u001b[0;34m=\u001b[0m\u001b[0;36m100\u001b[0m\u001b[0;34m,\u001b[0m\u001b[0mgeocode\u001b[0m\u001b[0;34m=\u001b[0m\u001b[0;34m'41.8781,-87.6298,2000mi'\u001b[0m\u001b[0;34m)\u001b[0m\u001b[0;34m\u001b[0m\u001b[0m\n\u001b[0m\u001b[1;32m     20\u001b[0m         \u001b[0moriginal_tweet\u001b[0m \u001b[0;34m=\u001b[0m \u001b[0mreply\u001b[0m\u001b[0;34m.\u001b[0m\u001b[0mget\u001b[0m\u001b[0;34m(\u001b[0m\u001b[0;34m'id'\u001b[0m\u001b[0;34m)\u001b[0m\u001b[0;34m\u001b[0m\u001b[0m\n\u001b[1;32m     21\u001b[0m         \u001b[0;32mif\u001b[0m \u001b[0;34m(\u001b[0m\u001b[0mlen\u001b[0m\u001b[0;34m(\u001b[0m\u001b[0mreplies_list\u001b[0m\u001b[0;34m)\u001b[0m \u001b[0;34m>\u001b[0m \u001b[0;36m6000\u001b[0m\u001b[0;34m)\u001b[0m\u001b[0;34m:\u001b[0m\u001b[0;34m\u001b[0m\u001b[0m\n",
      "\u001b[0;32m~/anaconda3/lib/python3.6/site-packages/tweepy/binder.py\u001b[0m in \u001b[0;36m_call\u001b[0;34m(*args, **kwargs)\u001b[0m\n\u001b[1;32m    248\u001b[0m             \u001b[0;32mreturn\u001b[0m \u001b[0mmethod\u001b[0m\u001b[0;34m\u001b[0m\u001b[0m\n\u001b[1;32m    249\u001b[0m         \u001b[0;32melse\u001b[0m\u001b[0;34m:\u001b[0m\u001b[0;34m\u001b[0m\u001b[0m\n\u001b[0;32m--> 250\u001b[0;31m             \u001b[0;32mreturn\u001b[0m \u001b[0mmethod\u001b[0m\u001b[0;34m.\u001b[0m\u001b[0mexecute\u001b[0m\u001b[0;34m(\u001b[0m\u001b[0;34m)\u001b[0m\u001b[0;34m\u001b[0m\u001b[0m\n\u001b[0m\u001b[1;32m    251\u001b[0m \u001b[0;34m\u001b[0m\u001b[0m\n\u001b[1;32m    252\u001b[0m     \u001b[0;31m# Set pagination mode\u001b[0m\u001b[0;34m\u001b[0m\u001b[0;34m\u001b[0m\u001b[0m\n",
      "\u001b[0;32m~/anaconda3/lib/python3.6/site-packages/tweepy/binder.py\u001b[0m in \u001b[0;36mexecute\u001b[0;34m(self)\u001b[0m\n\u001b[1;32m    230\u001b[0m \u001b[0;34m\u001b[0m\u001b[0m\n\u001b[1;32m    231\u001b[0m                 \u001b[0;32mif\u001b[0m \u001b[0mis_rate_limit_error_message\u001b[0m\u001b[0;34m(\u001b[0m\u001b[0merror_msg\u001b[0m\u001b[0;34m)\u001b[0m\u001b[0;34m:\u001b[0m\u001b[0;34m\u001b[0m\u001b[0m\n\u001b[0;32m--> 232\u001b[0;31m                     \u001b[0;32mraise\u001b[0m \u001b[0mRateLimitError\u001b[0m\u001b[0;34m(\u001b[0m\u001b[0merror_msg\u001b[0m\u001b[0;34m,\u001b[0m \u001b[0mresp\u001b[0m\u001b[0;34m)\u001b[0m\u001b[0;34m\u001b[0m\u001b[0m\n\u001b[0m\u001b[1;32m    233\u001b[0m                 \u001b[0;32melse\u001b[0m\u001b[0;34m:\u001b[0m\u001b[0;34m\u001b[0m\u001b[0m\n\u001b[1;32m    234\u001b[0m                     \u001b[0;32mraise\u001b[0m \u001b[0mTweepError\u001b[0m\u001b[0;34m(\u001b[0m\u001b[0merror_msg\u001b[0m\u001b[0;34m,\u001b[0m \u001b[0mresp\u001b[0m\u001b[0;34m,\u001b[0m \u001b[0mapi_code\u001b[0m\u001b[0;34m=\u001b[0m\u001b[0mapi_error_code\u001b[0m\u001b[0;34m)\u001b[0m\u001b[0;34m\u001b[0m\u001b[0m\n",
      "\u001b[0;31mRateLimitError\u001b[0m: [{'message': 'Rate limit exceeded', 'code': 88}]"
     ]
    }
   ],
   "source": [
    "# Target Term\n",
    "target_user = \"@realDonaldTrump\"\n",
    "\n",
    "# Get all tweets from target user\n",
    "tweet_list = []\n",
    "public_tweets = api.user_timeline(target_user, page=1)\n",
    "original_tweet = 0\n",
    "# Loop through all tweets\n",
    "for i, tweet in enumerate(public_tweets):\n",
    "    tweet_list.append(tweet)\n",
    "    replies_list = []\n",
    "    orginal_tweet = tweet.get('id')\n",
    "\n",
    "    replies = api.search(q='to:@realDonaldTrump',since_id=tweet.get('id'),count=100,geocode='41.8781,-87.6298,2000mi')\n",
    "    while len(replies.get('statuses')) > 0 and replies.get('statuses')[0].get('id') > original_tweet:\n",
    "        for reply in replies[\"statuses\"]:\n",
    "#             if reply.get('coordinates') != None:\n",
    "            replies_list.append(reply) \n",
    "        replies = api.search(q='to:@realDonaldTrump',since_id=reply.get('id'), count=100,geocode='41.8781,-87.6298,2000mi')\n",
    "        original_tweet = reply.get('id')\n",
    "        if (len(replies_list) > 6000):\n",
    "            break\n",
    "    break"
   ]
  },
  {
   "cell_type": "code",
   "execution_count": 206,
   "metadata": {},
   "outputs": [],
   "source": [
    "# # Target Term\n",
    "# target_user = \"@realDonaldTrump\"\n",
    "\n",
    "# # Get all tweets from target user\n",
    "# tweet_list = []\n",
    "# public_tweets = api.user_timeline(target_user, page=1)\n",
    "# original_tweet = 0\n",
    "# # Loop through all tweets\n",
    "# for i, tweet in enumerate(public_tweets):\n",
    "#     tweet_list.append(tweet)\n",
    "#     replies_list = []\n",
    "#     orginal_tweet = tweet.get('id')\n",
    "\n",
    "#     replies = api.search(q='to:@realDonaldTrump',since_id=tweet.get('id'),count=100,geocode='41.8781,-87.6298,2000mi')\n",
    "#     while len(replies.get('statuses')) > 0 and replies.get('statuses')[0].get('id') > original_tweet:\n",
    "#         for reply in replies[\"statuses\"]:\n",
    "# #             if reply.get('coordinates') != None:\n",
    "#             replies_list.append(reply) \n",
    "#         replies = api.search(q='to:@realDonaldTrump',since_id=reply.get('id'), count=100,geocode='41.8781,-87.6298,2000mi')\n",
    "#         original_tweet = reply.get('id')\n",
    "#         if (len(replies_list) > 6000):\n",
    "#             break\n",
    "#     break"
   ]
  },
  {
   "cell_type": "code",
   "execution_count": 207,
   "metadata": {},
   "outputs": [
    {
     "data": {
      "text/plain": [
       "(1, 6078)"
      ]
     },
     "execution_count": 207,
     "metadata": {},
     "output_type": "execute_result"
    }
   ],
   "source": [
    "len(tweet_list), len(replies_list)"
   ]
  },
  {
   "cell_type": "code",
   "execution_count": 208,
   "metadata": {},
   "outputs": [],
   "source": [
    "flat_replies = []\n",
    "# found_State = False\n",
    "for reply in replies_list:\n",
    "   if len(reply.get('user').get('location')) > 0:\n",
    "       found = False\n",
    "       for state in states:\n",
    "           if (reply.get('user').get('location').find(state) > 0):\n",
    "               found = True\n",
    "               break\n",
    "       # Run Vader Analysis on each tweet\n",
    "       if found:\n",
    "           results = analyzer.polarity_scores(reply.get('text'))\n",
    "           reply_dict = {'id': reply.get('id'),\n",
    "                       'text' : reply.get('text'),\n",
    "                       'location': state,\n",
    "                       'compound': results[\"compound\"],\n",
    "                       'pos': results[\"pos\"],\n",
    "                       'neu': results[\"neu\"],\n",
    "                       'neg': results[\"neg\"]}\n",
    "           flat_replies.append(reply_dict)"
   ]
  },
  {
   "cell_type": "code",
   "execution_count": 209,
   "metadata": {},
   "outputs": [
    {
     "name": "stdout",
     "output_type": "stream",
     "text": [
      "1006891643985854464\n",
      "'Wed Jun 13 13:30:49 +0000 2018'\n",
      "('So funny to watch the Fake News, especially NBC and CNN. They are fighting '\n",
      " 'hard to downplay the deal with North Kor… https://t.co/khUajnNtoR')\n"
     ]
    },
    {
     "data": {
      "text/plain": [
       "(None, None, None)"
      ]
     },
     "execution_count": 209,
     "metadata": {},
     "output_type": "execute_result"
    }
   ],
   "source": [
    "pprint(tweet_list[0].get('id')), pprint(tweet_list[0].get('created_at')), pprint(tweet_list[0].get('text'))"
   ]
  },
  {
   "cell_type": "code",
   "execution_count": null,
   "metadata": {},
   "outputs": [],
   "source": []
  },
  {
   "cell_type": "code",
   "execution_count": 210,
   "metadata": {},
   "outputs": [
    {
     "data": {
      "text/plain": [
       "{'contributors': None,\n",
       " 'coordinates': None,\n",
       " 'created_at': 'Wed Jun 13 17:25:56 +0000 2018',\n",
       " 'entities': {'hashtags': [],\n",
       "  'symbols': [],\n",
       "  'urls': [{'display_url': 'twitter.com/i/web/status/1…',\n",
       "    'expanded_url': 'https://twitter.com/i/web/status/1006950813183430656',\n",
       "    'indices': [121, 144],\n",
       "    'url': 'https://t.co/gyfwM67A2v'}],\n",
       "  'user_mentions': [{'id': 25073877,\n",
       "    'id_str': '25073877',\n",
       "    'indices': [0, 16],\n",
       "    'name': 'Donald J. Trump',\n",
       "    'screen_name': 'realDonaldTrump'}]},\n",
       " 'favorite_count': 0,\n",
       " 'favorited': False,\n",
       " 'geo': None,\n",
       " 'id': 1006950813183430656,\n",
       " 'id_str': '1006950813183430656',\n",
       " 'in_reply_to_screen_name': 'realDonaldTrump',\n",
       " 'in_reply_to_status_id': 1006891643985854464,\n",
       " 'in_reply_to_status_id_str': '1006891643985854464',\n",
       " 'in_reply_to_user_id': 25073877,\n",
       " 'in_reply_to_user_id_str': '25073877',\n",
       " 'is_quote_status': False,\n",
       " 'lang': 'en',\n",
       " 'metadata': {'iso_language_code': 'en', 'result_type': 'recent'},\n",
       " 'place': None,\n",
       " 'possibly_sensitive': False,\n",
       " 'retweet_count': 0,\n",
       " 'retweeted': False,\n",
       " 'source': '<a href=\"http://twitter.com\" rel=\"nofollow\">Twitter Web Client</a>',\n",
       " 'text': \"@realDonaldTrump Nice guy!  Had this been your company all hell would break loose &amp; you'd tie him up in court forev… https://t.co/gyfwM67A2v\",\n",
       " 'truncated': True,\n",
       " 'user': {'contributors_enabled': False,\n",
       "  'created_at': 'Sat Jul 02 15:17:18 +0000 2011',\n",
       "  'default_profile': False,\n",
       "  'default_profile_image': False,\n",
       "  'description': 'Democrat 60\\'s - 80\\'s, Republican 80\\'s - 90\\'s Independent 90\\'s - present. Scratch \"present\". Since Trump I am definitely back to DEMOCRAT! I block ignorance!',\n",
       "  'entities': {'description': {'urls': []}},\n",
       "  'favourites_count': 90325,\n",
       "  'follow_request_sent': False,\n",
       "  'followers_count': 486,\n",
       "  'following': False,\n",
       "  'friends_count': 273,\n",
       "  'geo_enabled': True,\n",
       "  'has_extended_profile': True,\n",
       "  'id': 328006479,\n",
       "  'id_str': '328006479',\n",
       "  'is_translation_enabled': False,\n",
       "  'is_translator': False,\n",
       "  'lang': 'en',\n",
       "  'listed_count': 13,\n",
       "  'location': 'Nebraska, USA',\n",
       "  'name': 'Colleen LR',\n",
       "  'notifications': False,\n",
       "  'profile_background_color': '000000',\n",
       "  'profile_background_image_url': 'http://abs.twimg.com/images/themes/theme1/bg.png',\n",
       "  'profile_background_image_url_https': 'https://abs.twimg.com/images/themes/theme1/bg.png',\n",
       "  'profile_background_tile': False,\n",
       "  'profile_banner_url': 'https://pbs.twimg.com/profile_banners/328006479/1488681070',\n",
       "  'profile_image_url': 'http://pbs.twimg.com/profile_images/928954369919238145/ocPYCq_S_normal.jpg',\n",
       "  'profile_image_url_https': 'https://pbs.twimg.com/profile_images/928954369919238145/ocPYCq_S_normal.jpg',\n",
       "  'profile_link_color': '981CEB',\n",
       "  'profile_sidebar_border_color': '000000',\n",
       "  'profile_sidebar_fill_color': '000000',\n",
       "  'profile_text_color': '000000',\n",
       "  'profile_use_background_image': False,\n",
       "  'protected': False,\n",
       "  'screen_name': 'Cozy1950',\n",
       "  'statuses_count': 125134,\n",
       "  'time_zone': None,\n",
       "  'translator_type': 'none',\n",
       "  'url': None,\n",
       "  'utc_offset': None,\n",
       "  'verified': False}}"
      ]
     },
     "execution_count": 210,
     "metadata": {},
     "output_type": "execute_result"
    }
   ],
   "source": [
    "replies_df = pd.DataFrame(replies_list)\n",
    "\n",
    "replies_list[0].get('user').get('location')\n",
    "replies_list[0]"
   ]
  },
  {
   "cell_type": "code",
   "execution_count": 237,
   "metadata": {},
   "outputs": [],
   "source": [
    "replies_df = pd.DataFrame(flat_replies)\n",
    "replies_df\n",
    "\n",
    "None"
   ]
  },
  {
   "cell_type": "code",
   "execution_count": 212,
   "metadata": {},
   "outputs": [],
   "source": [
    "state_compound_fakenews = replies_df.groupby(\"location\")[\"compound\"].mean().reset_index()"
   ]
  },
  {
   "cell_type": "code",
   "execution_count": 213,
   "metadata": {},
   "outputs": [],
   "source": [
    "state_compound_fakenews\n",
    "\n",
    "state_compound_fakenews.to_csv(\"state_compound_fakenews.csv\", encoding=\"utf-8\", index=False)"
   ]
  },
  {
   "cell_type": "code",
   "execution_count": 220,
   "metadata": {},
   "outputs": [],
   "source": [
    "state_pos_fakenews = replies_df.groupby(\"location\")[\"pos\"].mean().reset_index()"
   ]
  },
  {
   "cell_type": "code",
   "execution_count": 221,
   "metadata": {},
   "outputs": [],
   "source": [
    "state_pos_fakenews\n",
    "\n",
    "state_pos_fakenews.to_csv(\"state_pos_fakenews\", encoding=\"utf-8\", index=False)"
   ]
  },
  {
   "cell_type": "code",
   "execution_count": 222,
   "metadata": {},
   "outputs": [],
   "source": [
    "state_neg_fakenews = replies_df.groupby(\"location\")[\"neg\"].mean().reset_index()"
   ]
  },
  {
   "cell_type": "code",
   "execution_count": 224,
   "metadata": {},
   "outputs": [],
   "source": [
    "state_neg_fakenews.to_csv(\"state_neg_fakenews.csv\", encoding=\"utf-8\", index=False)"
   ]
  },
  {
   "cell_type": "code",
   "execution_count": 238,
   "metadata": {},
   "outputs": [],
   "source": [
    "replies_df.sort_values(by=['location'])\n",
    "\n",
    "None"
   ]
  },
  {
   "cell_type": "code",
   "execution_count": 145,
   "metadata": {},
   "outputs": [
    {
     "data": {
      "text/plain": [
       "(-1, 1)"
      ]
     },
     "execution_count": 145,
     "metadata": {},
     "output_type": "execute_result"
    },
    {
     "data": {
      "image/png": "[encoded data removed]",
      "text/plain": [
       "<matplotlib.figure.Figure at 0x13cb48550>"
      ]
     },
     "metadata": {},
     "output_type": "display_data"
    }
   ],
   "source": [
    "import numpy as np\n",
    "import matplotlib.pyplot as plt\n",
    "\n",
    "state_bar = state_compound_df['location']\n",
    "state_compound = state_compound_df['compound']\n",
    "x_axis = np.arange(0, len(state_bar), 1)\n",
    "plt.bar(x_axis, state_compound, align=\"center\")\n",
    "# Set x axis tick locations\n",
    "tick_locations = [value+.1 for value in x_axis]\n",
    "plt.xticks(tick_locations, state_bar)\n",
    "\n",
    "\n",
    "\n",
    "# Set the limits of the x axis\n",
    "plt.xlim(-0.5, len(x_axis))\n",
    "\n",
    "# Set the limits of the y axis\n",
    "plt.ylim(-1, 1)"
   ]
  },
  {
   "cell_type": "code",
   "execution_count": 146,
   "metadata": {},
   "outputs": [],
   "source": [
    "import folium"
   ]
  },
  {
   "cell_type": "code",
   "execution_count": 239,
   "metadata": {},
   "outputs": [],
   "source": [
    "USA_COORDINATES = (41.8781,-87.6298)\n",
    "\n",
    "state_geo = r'state.geo.json'\n",
    "\n",
    "map = folium.Map(location=USA_COORDINATES, zoom_start=4)\n",
    "# map.geojson(geo_path='state.geo.json')\n",
    "# map\n",
    "# folium.GeoJson(data='state.geojson.json',\n",
    "#              ).add_to(map)\n",
    "# display(map)\n",
    "map.choropleth(geo_data='state.geo.json',\n",
    "                  data=state_compound_df,\n",
    "                 columns=['location', 'compound'],\n",
    "                 key_on='feature.properties.STUSPS10',\n",
    "                 fill_color='BuPu')\n",
    "\n",
    "map\n",
    "\n",
    "None"
   ]
  },
  {
   "cell_type": "code",
   "execution_count": 148,
   "metadata": {},
   "outputs": [],
   "source": [
    "tweet_2_06_11_18 = 'A year ago the pundits & talking heads, people that couldn’t do the job before, were begging for conciliation and peace - “please meet, don’t go to war.” Now that we meet and have a great relationship with Kim Jong Un, the same haters shout out, “you shouldn’t meet, do not meet!”'\n",
    "results = analyzer.polarity_scores(tweet_2_06_11_18)\n",
    "pos = results[\"pos\"]\n",
    "neg = results[\"neg\"]\n",
    "neu = results[\"neu\"]\n",
    "comp = results[\"compound\"]"
   ]
  },
  {
   "cell_type": "code",
   "execution_count": 149,
   "metadata": {},
   "outputs": [],
   "source": [
    "tweet_2_06_11_18_df =[pos, neg, neu, comp]"
   ]
  },
  {
   "cell_type": "code",
   "execution_count": 150,
   "metadata": {},
   "outputs": [
    {
     "data": {
      "text/plain": [
       "[0.141, 0.057, 0.802, 0.69]"
      ]
     },
     "execution_count": 150,
     "metadata": {},
     "output_type": "execute_result"
    }
   ],
   "source": [
    "tweet_2_06_11_18_df"
   ]
  },
  {
   "cell_type": "code",
   "execution_count": 157,
   "metadata": {},
   "outputs": [],
   "source": [
    "tweet_sentiment2 = pd.read_csv('cleaned_tweet2_sentiment.csv')"
   ]
  },
  {
   "cell_type": "code",
   "execution_count": 158,
   "metadata": {},
   "outputs": [
    {
     "data": {
      "text/html": [
       "<div>\n",
       "<style scoped>\n",
       "    .dataframe tbody tr th:only-of-type {\n",
       "        vertical-align: middle;\n",
       "    }\n",
       "\n",
       "    .dataframe tbody tr th {\n",
       "        vertical-align: top;\n",
       "    }\n",
       "\n",
       "    .dataframe thead th {\n",
       "        text-align: right;\n",
       "    }\n",
       "</style>\n",
       "<table border=\"1\" class=\"dataframe\">\n",
       "  <thead>\n",
       "    <tr style=\"text-align: right;\">\n",
       "      <th></th>\n",
       "      <th>State</th>\n",
       "      <th>Trump Proportion</th>\n",
       "      <th>compound</th>\n",
       "      <th>pos</th>\n",
       "      <th>neg</th>\n",
       "    </tr>\n",
       "  </thead>\n",
       "  <tbody>\n",
       "    <tr>\n",
       "      <th>0</th>\n",
       "      <td>AZ</td>\n",
       "      <td>0.518900</td>\n",
       "      <td>0.028076</td>\n",
       "      <td>0.060397</td>\n",
       "      <td>0.055500</td>\n",
       "    </tr>\n",
       "    <tr>\n",
       "      <th>1</th>\n",
       "      <td>CA</td>\n",
       "      <td>0.338718</td>\n",
       "      <td>0.218328</td>\n",
       "      <td>0.134917</td>\n",
       "      <td>0.152056</td>\n",
       "    </tr>\n",
       "    <tr>\n",
       "      <th>2</th>\n",
       "      <td>FL</td>\n",
       "      <td>0.506188</td>\n",
       "      <td>-0.148242</td>\n",
       "      <td>0.050032</td>\n",
       "      <td>0.267753</td>\n",
       "    </tr>\n",
       "    <tr>\n",
       "      <th>3</th>\n",
       "      <td>GA</td>\n",
       "      <td>0.526612</td>\n",
       "      <td>-0.381681</td>\n",
       "      <td>0.003407</td>\n",
       "      <td>0.137578</td>\n",
       "    </tr>\n",
       "    <tr>\n",
       "      <th>4</th>\n",
       "      <td>IL</td>\n",
       "      <td>0.409799</td>\n",
       "      <td>0.322221</td>\n",
       "      <td>0.139192</td>\n",
       "      <td>0.000000</td>\n",
       "    </tr>\n",
       "    <tr>\n",
       "      <th>5</th>\n",
       "      <td>MA</td>\n",
       "      <td>0.353487</td>\n",
       "      <td>0.690200</td>\n",
       "      <td>0.251000</td>\n",
       "      <td>0.000000</td>\n",
       "    </tr>\n",
       "    <tr>\n",
       "      <th>6</th>\n",
       "      <td>MN</td>\n",
       "      <td>0.491715</td>\n",
       "      <td>-0.542300</td>\n",
       "      <td>0.000000</td>\n",
       "      <td>0.368000</td>\n",
       "    </tr>\n",
       "    <tr>\n",
       "      <th>7</th>\n",
       "      <td>MO</td>\n",
       "      <td>0.590898</td>\n",
       "      <td>0.874500</td>\n",
       "      <td>0.500000</td>\n",
       "      <td>0.000000</td>\n",
       "    </tr>\n",
       "    <tr>\n",
       "      <th>8</th>\n",
       "      <td>NC</td>\n",
       "      <td>0.519037</td>\n",
       "      <td>0.000000</td>\n",
       "      <td>0.000000</td>\n",
       "      <td>0.000000</td>\n",
       "    </tr>\n",
       "    <tr>\n",
       "      <th>9</th>\n",
       "      <td>NJ</td>\n",
       "      <td>0.427158</td>\n",
       "      <td>0.440400</td>\n",
       "      <td>0.132000</td>\n",
       "      <td>0.000000</td>\n",
       "    </tr>\n",
       "    <tr>\n",
       "      <th>10</th>\n",
       "      <td>NM</td>\n",
       "      <td>0.453492</td>\n",
       "      <td>0.548900</td>\n",
       "      <td>0.383852</td>\n",
       "      <td>0.000000</td>\n",
       "    </tr>\n",
       "    <tr>\n",
       "      <th>11</th>\n",
       "      <td>NV</td>\n",
       "      <td>0.487063</td>\n",
       "      <td>-0.440400</td>\n",
       "      <td>0.000000</td>\n",
       "      <td>0.367000</td>\n",
       "    </tr>\n",
       "    <tr>\n",
       "      <th>12</th>\n",
       "      <td>NY</td>\n",
       "      <td>0.382277</td>\n",
       "      <td>-0.660551</td>\n",
       "      <td>0.026178</td>\n",
       "      <td>0.264290</td>\n",
       "    </tr>\n",
       "    <tr>\n",
       "      <th>13</th>\n",
       "      <td>OH</td>\n",
       "      <td>0.542676</td>\n",
       "      <td>-0.542300</td>\n",
       "      <td>0.000000</td>\n",
       "      <td>0.259000</td>\n",
       "    </tr>\n",
       "    <tr>\n",
       "      <th>14</th>\n",
       "      <td>OK</td>\n",
       "      <td>0.693047</td>\n",
       "      <td>-0.622100</td>\n",
       "      <td>0.000000</td>\n",
       "      <td>0.214000</td>\n",
       "    </tr>\n",
       "    <tr>\n",
       "      <th>15</th>\n",
       "      <td>PA</td>\n",
       "      <td>0.503755</td>\n",
       "      <td>-0.422276</td>\n",
       "      <td>0.000000</td>\n",
       "      <td>0.156762</td>\n",
       "    </tr>\n",
       "    <tr>\n",
       "      <th>16</th>\n",
       "      <td>TN</td>\n",
       "      <td>0.636243</td>\n",
       "      <td>-0.361200</td>\n",
       "      <td>0.000000</td>\n",
       "      <td>0.161000</td>\n",
       "    </tr>\n",
       "    <tr>\n",
       "      <th>17</th>\n",
       "      <td>TX</td>\n",
       "      <td>0.547132</td>\n",
       "      <td>-0.268475</td>\n",
       "      <td>0.038123</td>\n",
       "      <td>0.113149</td>\n",
       "    </tr>\n",
       "    <tr>\n",
       "      <th>18</th>\n",
       "      <td>WA</td>\n",
       "      <td>0.412131</td>\n",
       "      <td>0.397508</td>\n",
       "      <td>0.153920</td>\n",
       "      <td>0.027360</td>\n",
       "    </tr>\n",
       "    <tr>\n",
       "      <th>19</th>\n",
       "      <td>WI</td>\n",
       "      <td>0.504080</td>\n",
       "      <td>-0.273200</td>\n",
       "      <td>0.000000</td>\n",
       "      <td>0.116000</td>\n",
       "    </tr>\n",
       "  </tbody>\n",
       "</table>\n",
       "</div>"
      ],
      "text/plain": [
       "   State  Trump Proportion  compound       pos       neg\n",
       "0     AZ          0.518900  0.028076  0.060397  0.055500\n",
       "1     CA          0.338718  0.218328  0.134917  0.152056\n",
       "2     FL          0.506188 -0.148242  0.050032  0.267753\n",
       "3     GA          0.526612 -0.381681  0.003407  0.137578\n",
       "4     IL          0.409799  0.322221  0.139192  0.000000\n",
       "5     MA          0.353487  0.690200  0.251000  0.000000\n",
       "6     MN          0.491715 -0.542300  0.000000  0.368000\n",
       "7     MO          0.590898  0.874500  0.500000  0.000000\n",
       "8     NC          0.519037  0.000000  0.000000  0.000000\n",
       "9     NJ          0.427158  0.440400  0.132000  0.000000\n",
       "10    NM          0.453492  0.548900  0.383852  0.000000\n",
       "11    NV          0.487063 -0.440400  0.000000  0.367000\n",
       "12    NY          0.382277 -0.660551  0.026178  0.264290\n",
       "13    OH          0.542676 -0.542300  0.000000  0.259000\n",
       "14    OK          0.693047 -0.622100  0.000000  0.214000\n",
       "15    PA          0.503755 -0.422276  0.000000  0.156762\n",
       "16    TN          0.636243 -0.361200  0.000000  0.161000\n",
       "17    TX          0.547132 -0.268475  0.038123  0.113149\n",
       "18    WA          0.412131  0.397508  0.153920  0.027360\n",
       "19    WI          0.504080 -0.273200  0.000000  0.116000"
      ]
     },
     "execution_count": 158,
     "metadata": {},
     "output_type": "execute_result"
    }
   ],
   "source": [
    "tweet_sentiment2"
   ]
  },
  {
   "cell_type": "code",
   "execution_count": 190,
   "metadata": {},
   "outputs": [
    {
     "data": {
      "text/plain": [
       "(-1, 1)"
      ]
     },
     "execution_count": 190,
     "metadata": {},
     "output_type": "execute_result"
    },
    {
     "data": {
      "image/png": "[encoded data removed]",
      "text/plain": [
       "<matplotlib.figure.Figure at 0x1a5155ccc0>"
      ]
     },
     "metadata": {},
     "output_type": "display_data"
    }
   ],
   "source": [
    "state_bar = tweet_sentiment2['State']\n",
    "state_compound = tweet_sentiment2['compound']\n",
    "x_axis = np.arange(0, len(state_bar), 1)\n",
    "plt.bar(x_axis, state_compound, align=\"center\")\n",
    "# Set x axis tick locations\n",
    "tick_locations = [value+.1 for value in x_axis]\n",
    "plt.xticks(tick_locations, state_bar)\n",
    "\n",
    "\n",
    "\n",
    "# Set the limits of the x axis\n",
    "plt.xlim(-0.5, len(x_axis))\n",
    "\n",
    "# Set the limits of the y axis\n",
    "plt.ylim(-1, 1)"
   ]
  },
  {
   "cell_type": "code",
   "execution_count": 159,
   "metadata": {},
   "outputs": [],
   "source": [
    "from scipy.stats import linregress"
   ]
  },
  {
   "cell_type": "code",
   "execution_count": 189,
   "metadata": {},
   "outputs": [
    {
     "data": {
      "image/png": "[encoded data removed]",
      "text/plain": [
       "<matplotlib.figure.Figure at 0x144900048>"
      ]
     },
     "metadata": {},
     "output_type": "display_data"
    }
   ],
   "source": [
    "# Set data\n",
    "x_axis = tweet_sentiment2['Trump Proportion']\n",
    "y_axis= tweet_sentiment2['pos']\n",
    "\n",
    "# Set line\n",
    "(slope, intercept, _, _, _) = linregress(x_axis, y_axis)\n",
    "fit = slope * x_axis + intercept\n",
    "\n",
    "# Plot data\n",
    "fig, ax = plt.subplots()\n",
    "\n",
    "fig.suptitle(\"Tweet #3 Positive State Sentiment by 2016 Trump State Vote Share\", fontsize=16, fontweight=\"bold\")\n",
    "\n",
    "ax.set_xlim(0, 1)\n",
    "ax.set_ylim(0, 1)\n",
    "\n",
    "ax.set_xlabel(\"Trump Vote Proportion by State\")\n",
    "ax.set_ylabel(\"Positive State Sentiment\")\n",
    "\n",
    "ax.plot(x_axis, y_axis, linewidth=0, marker='o')\n",
    "ax.plot(x_axis, fit, 'b--')\n",
    "\n",
    "plt.grid()\n",
    "\n",
    "plt.show()\n",
    "\n"
   ]
  },
  {
   "cell_type": "code",
   "execution_count": 173,
   "metadata": {},
   "outputs": [
    {
     "data": {
      "image/png": "[encoded data removed]",
      "text/plain": [
       "<matplotlib.figure.Figure at 0x12c0adcc0>"
      ]
     },
     "metadata": {},
     "output_type": "display_data"
    }
   ],
   "source": [
    "# Set data\n",
    "x_axis = tweet_sentiment2['Trump Proportion']\n",
    "y_axis= tweet_sentiment2['neg']\n",
    "\n",
    "# Set line\n",
    "(slope, intercept, _, _, _) = linregress(x_axis, y_axis)\n",
    "fit = slope * x_axis + intercept\n",
    "\n",
    "# Plot data\n",
    "fig, ax = plt.subplots()\n",
    "\n",
    "fig.suptitle(\"Tweet #3 Negative State Sentiment by 2016 Trump State Vote Share\", fontsize=16, fontweight=\"bold\")\n",
    "\n",
    "ax.set_xlim(0, 1)\n",
    "ax.set_ylim(0, 1)\n",
    "\n",
    "ax.set_xlabel(\"Trump Vote Proportion by State\")\n",
    "ax.set_ylabel(\"Negative State Sentiment\")\n",
    "\n",
    "ax.plot(x_axis, y_axis, linewidth=0, marker='o')\n",
    "ax.plot(x_axis, fit, 'b--')\n",
    "\n",
    "plt.grid()\n",
    "\n",
    "plt.show()\n",
    "\n"
   ]
  },
  {
   "cell_type": "code",
   "execution_count": 176,
   "metadata": {},
   "outputs": [],
   "source": [
    "tweet1_sentiment= pd.read_csv('state_sentiment_df_612_1.csv')"
   ]
  },
  {
   "cell_type": "code",
   "execution_count": 177,
   "metadata": {},
   "outputs": [
    {
     "data": {
      "text/html": [
       "<div>\n",
       "<style scoped>\n",
       "    .dataframe tbody tr th:only-of-type {\n",
       "        vertical-align: middle;\n",
       "    }\n",
       "\n",
       "    .dataframe tbody tr th {\n",
       "        vertical-align: top;\n",
       "    }\n",
       "\n",
       "    .dataframe thead th {\n",
       "        text-align: right;\n",
       "    }\n",
       "</style>\n",
       "<table border=\"1\" class=\"dataframe\">\n",
       "  <thead>\n",
       "    <tr style=\"text-align: right;\">\n",
       "      <th></th>\n",
       "      <th>location</th>\n",
       "      <th>compound</th>\n",
       "      <th>pos</th>\n",
       "      <th>neg</th>\n",
       "      <th>Trump Proportion of Vote</th>\n",
       "    </tr>\n",
       "  </thead>\n",
       "  <tbody>\n",
       "    <tr>\n",
       "      <th>0</th>\n",
       "      <td>AZ</td>\n",
       "      <td>0.061738</td>\n",
       "      <td>0.024750</td>\n",
       "      <td>0.000000</td>\n",
       "      <td>0.518900</td>\n",
       "    </tr>\n",
       "    <tr>\n",
       "      <th>1</th>\n",
       "      <td>CA</td>\n",
       "      <td>-0.207264</td>\n",
       "      <td>0.046989</td>\n",
       "      <td>0.129492</td>\n",
       "      <td>0.338718</td>\n",
       "    </tr>\n",
       "    <tr>\n",
       "      <th>2</th>\n",
       "      <td>CO</td>\n",
       "      <td>0.627864</td>\n",
       "      <td>0.285780</td>\n",
       "      <td>0.000000</td>\n",
       "      <td>0.473167</td>\n",
       "    </tr>\n",
       "    <tr>\n",
       "      <th>3</th>\n",
       "      <td>CT</td>\n",
       "      <td>0.000000</td>\n",
       "      <td>0.000000</td>\n",
       "      <td>0.000000</td>\n",
       "      <td>0.428585</td>\n",
       "    </tr>\n",
       "    <tr>\n",
       "      <th>4</th>\n",
       "      <td>FL</td>\n",
       "      <td>0.163955</td>\n",
       "      <td>0.154283</td>\n",
       "      <td>0.098233</td>\n",
       "      <td>0.506188</td>\n",
       "    </tr>\n",
       "    <tr>\n",
       "      <th>5</th>\n",
       "      <td>GA</td>\n",
       "      <td>0.010480</td>\n",
       "      <td>0.033350</td>\n",
       "      <td>0.046410</td>\n",
       "      <td>0.526612</td>\n",
       "    </tr>\n",
       "    <tr>\n",
       "      <th>6</th>\n",
       "      <td>IA</td>\n",
       "      <td>0.874100</td>\n",
       "      <td>0.473000</td>\n",
       "      <td>0.000000</td>\n",
       "      <td>0.550635</td>\n",
       "    </tr>\n",
       "    <tr>\n",
       "      <th>7</th>\n",
       "      <td>IL</td>\n",
       "      <td>0.205484</td>\n",
       "      <td>0.123316</td>\n",
       "      <td>0.108758</td>\n",
       "      <td>0.409799</td>\n",
       "    </tr>\n",
       "    <tr>\n",
       "      <th>8</th>\n",
       "      <td>KY</td>\n",
       "      <td>0.318200</td>\n",
       "      <td>0.365000</td>\n",
       "      <td>0.000000</td>\n",
       "      <td>0.656706</td>\n",
       "    </tr>\n",
       "    <tr>\n",
       "      <th>9</th>\n",
       "      <td>MA</td>\n",
       "      <td>-0.306165</td>\n",
       "      <td>0.000000</td>\n",
       "      <td>0.150824</td>\n",
       "      <td>0.353487</td>\n",
       "    </tr>\n",
       "    <tr>\n",
       "      <th>10</th>\n",
       "      <td>MD</td>\n",
       "      <td>0.000000</td>\n",
       "      <td>0.000000</td>\n",
       "      <td>0.000000</td>\n",
       "      <td>0.359838</td>\n",
       "    </tr>\n",
       "    <tr>\n",
       "      <th>11</th>\n",
       "      <td>MI</td>\n",
       "      <td>0.391042</td>\n",
       "      <td>0.382966</td>\n",
       "      <td>0.037831</td>\n",
       "      <td>0.501177</td>\n",
       "    </tr>\n",
       "    <tr>\n",
       "      <th>12</th>\n",
       "      <td>MN</td>\n",
       "      <td>0.000000</td>\n",
       "      <td>0.000000</td>\n",
       "      <td>0.000000</td>\n",
       "      <td>0.491715</td>\n",
       "    </tr>\n",
       "    <tr>\n",
       "      <th>13</th>\n",
       "      <td>MO</td>\n",
       "      <td>0.100877</td>\n",
       "      <td>0.052860</td>\n",
       "      <td>0.036316</td>\n",
       "      <td>0.598186</td>\n",
       "    </tr>\n",
       "    <tr>\n",
       "      <th>14</th>\n",
       "      <td>NC</td>\n",
       "      <td>0.000000</td>\n",
       "      <td>0.000000</td>\n",
       "      <td>0.000000</td>\n",
       "      <td>0.519037</td>\n",
       "    </tr>\n",
       "    <tr>\n",
       "      <th>15</th>\n",
       "      <td>NE</td>\n",
       "      <td>0.899900</td>\n",
       "      <td>0.379000</td>\n",
       "      <td>0.000000</td>\n",
       "      <td>0.635477</td>\n",
       "    </tr>\n",
       "    <tr>\n",
       "      <th>16</th>\n",
       "      <td>NJ</td>\n",
       "      <td>0.202300</td>\n",
       "      <td>0.217000</td>\n",
       "      <td>0.172000</td>\n",
       "      <td>0.427158</td>\n",
       "    </tr>\n",
       "    <tr>\n",
       "      <th>17</th>\n",
       "      <td>OR</td>\n",
       "      <td>0.000000</td>\n",
       "      <td>0.000000</td>\n",
       "      <td>0.000000</td>\n",
       "      <td>0.438442</td>\n",
       "    </tr>\n",
       "    <tr>\n",
       "      <th>18</th>\n",
       "      <td>PA</td>\n",
       "      <td>0.177904</td>\n",
       "      <td>0.057134</td>\n",
       "      <td>0.000000</td>\n",
       "      <td>0.503755</td>\n",
       "    </tr>\n",
       "    <tr>\n",
       "      <th>19</th>\n",
       "      <td>SC</td>\n",
       "      <td>-0.659700</td>\n",
       "      <td>0.141000</td>\n",
       "      <td>0.322000</td>\n",
       "      <td>0.574603</td>\n",
       "    </tr>\n",
       "    <tr>\n",
       "      <th>20</th>\n",
       "      <td>TN</td>\n",
       "      <td>-0.021397</td>\n",
       "      <td>0.197760</td>\n",
       "      <td>0.125507</td>\n",
       "      <td>0.636243</td>\n",
       "    </tr>\n",
       "    <tr>\n",
       "      <th>21</th>\n",
       "      <td>TX</td>\n",
       "      <td>0.246075</td>\n",
       "      <td>0.073023</td>\n",
       "      <td>0.000000</td>\n",
       "      <td>0.547132</td>\n",
       "    </tr>\n",
       "    <tr>\n",
       "      <th>22</th>\n",
       "      <td>UT</td>\n",
       "      <td>0.000000</td>\n",
       "      <td>0.000000</td>\n",
       "      <td>0.000000</td>\n",
       "      <td>0.623837</td>\n",
       "    </tr>\n",
       "    <tr>\n",
       "      <th>23</th>\n",
       "      <td>VA</td>\n",
       "      <td>0.077851</td>\n",
       "      <td>0.154000</td>\n",
       "      <td>0.107467</td>\n",
       "      <td>0.471736</td>\n",
       "    </tr>\n",
       "    <tr>\n",
       "      <th>24</th>\n",
       "      <td>WA</td>\n",
       "      <td>0.053590</td>\n",
       "      <td>0.269238</td>\n",
       "      <td>0.134286</td>\n",
       "      <td>0.412131</td>\n",
       "    </tr>\n",
       "  </tbody>\n",
       "</table>\n",
       "</div>"
      ],
      "text/plain": [
       "   location  compound       pos       neg  Trump Proportion of Vote\n",
       "0        AZ  0.061738  0.024750  0.000000                  0.518900\n",
       "1        CA -0.207264  0.046989  0.129492                  0.338718\n",
       "2        CO  0.627864  0.285780  0.000000                  0.473167\n",
       "3        CT  0.000000  0.000000  0.000000                  0.428585\n",
       "4        FL  0.163955  0.154283  0.098233                  0.506188\n",
       "5        GA  0.010480  0.033350  0.046410                  0.526612\n",
       "6        IA  0.874100  0.473000  0.000000                  0.550635\n",
       "7        IL  0.205484  0.123316  0.108758                  0.409799\n",
       "8        KY  0.318200  0.365000  0.000000                  0.656706\n",
       "9        MA -0.306165  0.000000  0.150824                  0.353487\n",
       "10       MD  0.000000  0.000000  0.000000                  0.359838\n",
       "11       MI  0.391042  0.382966  0.037831                  0.501177\n",
       "12       MN  0.000000  0.000000  0.000000                  0.491715\n",
       "13       MO  0.100877  0.052860  0.036316                  0.598186\n",
       "14       NC  0.000000  0.000000  0.000000                  0.519037\n",
       "15       NE  0.899900  0.379000  0.000000                  0.635477\n",
       "16       NJ  0.202300  0.217000  0.172000                  0.427158\n",
       "17       OR  0.000000  0.000000  0.000000                  0.438442\n",
       "18       PA  0.177904  0.057134  0.000000                  0.503755\n",
       "19       SC -0.659700  0.141000  0.322000                  0.574603\n",
       "20       TN -0.021397  0.197760  0.125507                  0.636243\n",
       "21       TX  0.246075  0.073023  0.000000                  0.547132\n",
       "22       UT  0.000000  0.000000  0.000000                  0.623837\n",
       "23       VA  0.077851  0.154000  0.107467                  0.471736\n",
       "24       WA  0.053590  0.269238  0.134286                  0.412131"
      ]
     },
     "execution_count": 177,
     "metadata": {},
     "output_type": "execute_result"
    }
   ],
   "source": [
    "tweet1_sentiment"
   ]
  },
  {
   "cell_type": "code",
   "execution_count": 180,
   "metadata": {},
   "outputs": [
    {
     "data": {
      "image/png": "[encoded data removed]",
      "text/plain": [
       "<matplotlib.figure.Figure at 0x144873048>"
      ]
     },
     "metadata": {},
     "output_type": "display_data"
    }
   ],
   "source": [
    "# Set data\n",
    "x_axis = tweet1_sentiment['Trump Proportion of Vote']\n",
    "y_axis= tweet1_sentiment['pos']\n",
    "\n",
    "# Set line\n",
    "(slope, intercept, _, _, _) = linregress(x_axis, y_axis)\n",
    "fit = slope * x_axis + intercept\n",
    "\n",
    "# Plot data\n",
    "fig, ax = plt.subplots()\n",
    "\n",
    "fig.suptitle(\"Tweet #2 Positive State Sentiment by 2016 Trump State Vote Share\", fontsize=16, fontweight=\"bold\")\n",
    "\n",
    "ax.set_xlim(0, 1)\n",
    "ax.set_ylim(0, 1)\n",
    "\n",
    "ax.set_xlabel(\"Trump Vote Proportion by State\")\n",
    "ax.set_ylabel(\"Positive State Sentiment\")\n",
    "\n",
    "ax.plot(x_axis, y_axis, linewidth=0, marker='o')\n",
    "ax.plot(x_axis, fit, 'b--')\n",
    "\n",
    "plt.grid()\n",
    "\n",
    "plt.show()\n",
    "\n"
   ]
  },
  {
   "cell_type": "code",
   "execution_count": 181,
   "metadata": {},
   "outputs": [
    {
     "data": {
      "image/png": "[encoded data removed]",
      "text/plain": [
       "<matplotlib.figure.Figure at 0x144880518>"
      ]
     },
     "metadata": {},
     "output_type": "display_data"
    }
   ],
   "source": [
    "# Set data\n",
    "x_axis = tweet1_sentiment['Trump Proportion of Vote']\n",
    "y_axis= tweet1_sentiment['neg']\n",
    "\n",
    "# Set line\n",
    "(slope, intercept, _, _, _) = linregress(x_axis, y_axis)\n",
    "fit = slope * x_axis + intercept\n",
    "\n",
    "# Plot data\n",
    "fig, ax = plt.subplots()\n",
    "\n",
    "fig.suptitle(\"Tweet #2 Negative State Sentiment by 2016 Trump State Vote Share\", fontsize=16, fontweight=\"bold\")\n",
    "\n",
    "ax.set_xlim(0, 1)\n",
    "ax.set_ylim(0, 1)\n",
    "\n",
    "ax.set_xlabel(\"Trump Vote Proportion by State\")\n",
    "ax.set_ylabel(\"Negative State Sentiment\")\n",
    "\n",
    "ax.plot(x_axis, y_axis, linewidth=0, marker='o')\n",
    "ax.plot(x_axis, fit, 'b--')\n",
    "\n",
    "plt.grid()\n",
    "\n",
    "plt.show()\n",
    "\n"
   ]
  },
  {
   "cell_type": "code",
   "execution_count": 194,
   "metadata": {},
   "outputs": [
    {
     "data": {
      "text/plain": [
       "(-1, 1)"
      ]
     },
     "execution_count": 194,
     "metadata": {},
     "output_type": "execute_result"
    },
    {
     "data": {
      "image/png": "[encoded data removed]",
      "text/plain": [
       "<matplotlib.figure.Figure at 0x1a512dc550>"
      ]
     },
     "metadata": {},
     "output_type": "display_data"
    }
   ],
   "source": [
    "state_bar = tweet1_sentiment['location']\n",
    "state_compound = tweet1_sentiment['compound']\n",
    "x_axis = np.arange(0, len(state_bar), 1)\n",
    "plt.bar(x_axis, state_compound, align=\"center\")\n",
    "# Set x axis tick locations\n",
    "tick_locations = [value+.1 for value in x_axis]\n",
    "plt.xticks(tick_locations, state_bar)\n",
    "\n",
    "\n",
    "\n",
    "# Set the limits of the x axis\n",
    "plt.xlim(-0.5, len(x_axis))\n",
    "\n",
    "# Set the limits of the y axis\n",
    "plt.ylim(-1, 1)"
   ]
  },
  {
   "cell_type": "code",
   "execution_count": 182,
   "metadata": {},
   "outputs": [],
   "source": [
    "otweet_sentiment = pd.read_csv('0tweet_sentiment.csv')"
   ]
  },
  {
   "cell_type": "code",
   "execution_count": 183,
   "metadata": {},
   "outputs": [
    {
     "data": {
      "text/html": [
       "<div>\n",
       "<style scoped>\n",
       "    .dataframe tbody tr th:only-of-type {\n",
       "        vertical-align: middle;\n",
       "    }\n",
       "\n",
       "    .dataframe tbody tr th {\n",
       "        vertical-align: top;\n",
       "    }\n",
       "\n",
       "    .dataframe thead th {\n",
       "        text-align: right;\n",
       "    }\n",
       "</style>\n",
       "<table border=\"1\" class=\"dataframe\">\n",
       "  <thead>\n",
       "    <tr style=\"text-align: right;\">\n",
       "      <th></th>\n",
       "      <th>State</th>\n",
       "      <th>compound</th>\n",
       "      <th>Trump Vote</th>\n",
       "      <th>pos</th>\n",
       "      <th>neg</th>\n",
       "    </tr>\n",
       "  </thead>\n",
       "  <tbody>\n",
       "    <tr>\n",
       "      <th>0</th>\n",
       "      <td>AZ</td>\n",
       "      <td>-0.093826</td>\n",
       "      <td>0.518900</td>\n",
       "      <td>0.099978</td>\n",
       "      <td>0.082609</td>\n",
       "    </tr>\n",
       "    <tr>\n",
       "      <th>1</th>\n",
       "      <td>CA</td>\n",
       "      <td>-0.115143</td>\n",
       "      <td>0.338718</td>\n",
       "      <td>0.110538</td>\n",
       "      <td>0.149931</td>\n",
       "    </tr>\n",
       "    <tr>\n",
       "      <th>2</th>\n",
       "      <td>DC</td>\n",
       "      <td>0.000000</td>\n",
       "      <td>0.043048</td>\n",
       "      <td>0.000000</td>\n",
       "      <td>0.000000</td>\n",
       "    </tr>\n",
       "    <tr>\n",
       "      <th>3</th>\n",
       "      <td>FL</td>\n",
       "      <td>-0.053810</td>\n",
       "      <td>0.506188</td>\n",
       "      <td>0.111208</td>\n",
       "      <td>0.130272</td>\n",
       "    </tr>\n",
       "    <tr>\n",
       "      <th>4</th>\n",
       "      <td>GA</td>\n",
       "      <td>-0.157168</td>\n",
       "      <td>0.526612</td>\n",
       "      <td>0.000000</td>\n",
       "      <td>0.072212</td>\n",
       "    </tr>\n",
       "    <tr>\n",
       "      <th>5</th>\n",
       "      <td>IA</td>\n",
       "      <td>-0.626900</td>\n",
       "      <td>0.550635</td>\n",
       "      <td>0.000000</td>\n",
       "      <td>0.255000</td>\n",
       "    </tr>\n",
       "    <tr>\n",
       "      <th>6</th>\n",
       "      <td>IL</td>\n",
       "      <td>-0.144674</td>\n",
       "      <td>0.409799</td>\n",
       "      <td>0.000000</td>\n",
       "      <td>0.049827</td>\n",
       "    </tr>\n",
       "    <tr>\n",
       "      <th>7</th>\n",
       "      <td>IN</td>\n",
       "      <td>0.000000</td>\n",
       "      <td>0.601173</td>\n",
       "      <td>0.000000</td>\n",
       "      <td>0.000000</td>\n",
       "    </tr>\n",
       "    <tr>\n",
       "      <th>8</th>\n",
       "      <td>KS</td>\n",
       "      <td>-0.526700</td>\n",
       "      <td>0.611115</td>\n",
       "      <td>0.000000</td>\n",
       "      <td>0.254000</td>\n",
       "    </tr>\n",
       "    <tr>\n",
       "      <th>9</th>\n",
       "      <td>MA</td>\n",
       "      <td>0.000000</td>\n",
       "      <td>0.353487</td>\n",
       "      <td>0.000000</td>\n",
       "      <td>0.000000</td>\n",
       "    </tr>\n",
       "    <tr>\n",
       "      <th>10</th>\n",
       "      <td>MI</td>\n",
       "      <td>0.000000</td>\n",
       "      <td>0.590898</td>\n",
       "      <td>0.000000</td>\n",
       "      <td>0.000000</td>\n",
       "    </tr>\n",
       "    <tr>\n",
       "      <th>11</th>\n",
       "      <td>MN</td>\n",
       "      <td>-0.599400</td>\n",
       "      <td>0.491715</td>\n",
       "      <td>0.000000</td>\n",
       "      <td>0.157000</td>\n",
       "    </tr>\n",
       "    <tr>\n",
       "      <th>12</th>\n",
       "      <td>MO</td>\n",
       "      <td>0.000000</td>\n",
       "      <td>0.598186</td>\n",
       "      <td>0.000000</td>\n",
       "      <td>0.000000</td>\n",
       "    </tr>\n",
       "    <tr>\n",
       "      <th>13</th>\n",
       "      <td>NJ</td>\n",
       "      <td>0.623900</td>\n",
       "      <td>0.427158</td>\n",
       "      <td>0.194000</td>\n",
       "      <td>0.000000</td>\n",
       "    </tr>\n",
       "    <tr>\n",
       "      <th>14</th>\n",
       "      <td>NV</td>\n",
       "      <td>-0.052623</td>\n",
       "      <td>0.487063</td>\n",
       "      <td>0.141174</td>\n",
       "      <td>0.279743</td>\n",
       "    </tr>\n",
       "    <tr>\n",
       "      <th>15</th>\n",
       "      <td>NY</td>\n",
       "      <td>0.330090</td>\n",
       "      <td>0.382277</td>\n",
       "      <td>0.210279</td>\n",
       "      <td>0.071614</td>\n",
       "    </tr>\n",
       "    <tr>\n",
       "      <th>16</th>\n",
       "      <td>OH</td>\n",
       "      <td>0.305423</td>\n",
       "      <td>0.542676</td>\n",
       "      <td>0.151192</td>\n",
       "      <td>0.045782</td>\n",
       "    </tr>\n",
       "    <tr>\n",
       "      <th>17</th>\n",
       "      <td>OK</td>\n",
       "      <td>0.377052</td>\n",
       "      <td>0.693047</td>\n",
       "      <td>0.110222</td>\n",
       "      <td>0.000000</td>\n",
       "    </tr>\n",
       "    <tr>\n",
       "      <th>18</th>\n",
       "      <td>PA</td>\n",
       "      <td>0.277038</td>\n",
       "      <td>0.503755</td>\n",
       "      <td>0.156149</td>\n",
       "      <td>0.000000</td>\n",
       "    </tr>\n",
       "    <tr>\n",
       "      <th>19</th>\n",
       "      <td>SC</td>\n",
       "      <td>0.843900</td>\n",
       "      <td>0.574603</td>\n",
       "      <td>0.565000</td>\n",
       "      <td>0.000000</td>\n",
       "    </tr>\n",
       "    <tr>\n",
       "      <th>20</th>\n",
       "      <td>SD</td>\n",
       "      <td>0.340000</td>\n",
       "      <td>0.659719</td>\n",
       "      <td>0.138000</td>\n",
       "      <td>0.000000</td>\n",
       "    </tr>\n",
       "    <tr>\n",
       "      <th>21</th>\n",
       "      <td>TX</td>\n",
       "      <td>0.485090</td>\n",
       "      <td>0.547132</td>\n",
       "      <td>0.358577</td>\n",
       "      <td>0.000000</td>\n",
       "    </tr>\n",
       "    <tr>\n",
       "      <th>22</th>\n",
       "      <td>UT</td>\n",
       "      <td>-0.340000</td>\n",
       "      <td>0.623837</td>\n",
       "      <td>0.000000</td>\n",
       "      <td>0.375000</td>\n",
       "    </tr>\n",
       "    <tr>\n",
       "      <th>23</th>\n",
       "      <td>VA</td>\n",
       "      <td>0.000000</td>\n",
       "      <td>0.471736</td>\n",
       "      <td>0.000000</td>\n",
       "      <td>0.000000</td>\n",
       "    </tr>\n",
       "    <tr>\n",
       "      <th>24</th>\n",
       "      <td>WA</td>\n",
       "      <td>0.188179</td>\n",
       "      <td>0.412131</td>\n",
       "      <td>0.086556</td>\n",
       "      <td>0.027181</td>\n",
       "    </tr>\n",
       "  </tbody>\n",
       "</table>\n",
       "</div>"
      ],
      "text/plain": [
       "   State  compound  Trump Vote       pos       neg\n",
       "0     AZ -0.093826    0.518900  0.099978  0.082609\n",
       "1     CA -0.115143    0.338718  0.110538  0.149931\n",
       "2     DC  0.000000    0.043048  0.000000  0.000000\n",
       "3     FL -0.053810    0.506188  0.111208  0.130272\n",
       "4     GA -0.157168    0.526612  0.000000  0.072212\n",
       "5     IA -0.626900    0.550635  0.000000  0.255000\n",
       "6     IL -0.144674    0.409799  0.000000  0.049827\n",
       "7     IN  0.000000    0.601173  0.000000  0.000000\n",
       "8     KS -0.526700    0.611115  0.000000  0.254000\n",
       "9     MA  0.000000    0.353487  0.000000  0.000000\n",
       "10    MI  0.000000    0.590898  0.000000  0.000000\n",
       "11    MN -0.599400    0.491715  0.000000  0.157000\n",
       "12    MO  0.000000    0.598186  0.000000  0.000000\n",
       "13    NJ  0.623900    0.427158  0.194000  0.000000\n",
       "14    NV -0.052623    0.487063  0.141174  0.279743\n",
       "15    NY  0.330090    0.382277  0.210279  0.071614\n",
       "16    OH  0.305423    0.542676  0.151192  0.045782\n",
       "17    OK  0.377052    0.693047  0.110222  0.000000\n",
       "18    PA  0.277038    0.503755  0.156149  0.000000\n",
       "19    SC  0.843900    0.574603  0.565000  0.000000\n",
       "20    SD  0.340000    0.659719  0.138000  0.000000\n",
       "21    TX  0.485090    0.547132  0.358577  0.000000\n",
       "22    UT -0.340000    0.623837  0.000000  0.375000\n",
       "23    VA  0.000000    0.471736  0.000000  0.000000\n",
       "24    WA  0.188179    0.412131  0.086556  0.027181"
      ]
     },
     "execution_count": 183,
     "metadata": {},
     "output_type": "execute_result"
    }
   ],
   "source": [
    "otweet_sentiment"
   ]
  },
  {
   "cell_type": "code",
   "execution_count": 185,
   "metadata": {},
   "outputs": [
    {
     "data": {
      "image/png": "[encoded data removed]",
      "text/plain": [
       "<matplotlib.figure.Figure at 0x144900e48>"
      ]
     },
     "metadata": {},
     "output_type": "display_data"
    }
   ],
   "source": [
    "# Set data\n",
    "x_axis = otweet_sentiment['Trump Vote']\n",
    "y_axis= otweet_sentiment['neg']\n",
    "\n",
    "# Set line\n",
    "(slope, intercept, _, _, _) = linregress(x_axis, y_axis)\n",
    "fit = slope * x_axis + intercept\n",
    "\n",
    "# Plot data\n",
    "fig, ax = plt.subplots()\n",
    "\n",
    "fig.suptitle(\"Tweet #1 Negative State Sentiment by 2016 Trump State Vote Share\", fontsize=16, fontweight=\"bold\")\n",
    "\n",
    "ax.set_xlim(0, 1)\n",
    "ax.set_ylim(0, 1)\n",
    "\n",
    "ax.set_xlabel(\"Trump Vote Proportion by State\")\n",
    "ax.set_ylabel(\"Negative State Sentiment\")\n",
    "\n",
    "ax.plot(x_axis, y_axis, linewidth=0, marker='o')\n",
    "ax.plot(x_axis, fit, 'b--')\n",
    "\n",
    "plt.grid()\n",
    "\n",
    "plt.show()\n",
    "\n"
   ]
  },
  {
   "cell_type": "code",
   "execution_count": 188,
   "metadata": {
    "scrolled": true
   },
   "outputs": [
    {
     "data": {
      "image/png": "[encoded data removed]",
      "text/plain": [
       "<matplotlib.figure.Figure at 0x1448f7e80>"
      ]
     },
     "metadata": {},
     "output_type": "display_data"
    }
   ],
   "source": [
    "# Set data\n",
    "x_axis = otweet_sentiment['Trump Vote']\n",
    "y_axis= otweet_sentiment['pos']\n",
    "\n",
    "# Set line\n",
    "(slope, intercept, _, _, _) = linregress(x_axis, y_axis)\n",
    "fit = slope * x_axis + intercept\n",
    "\n",
    "# Plot data\n",
    "fig, ax = plt.subplots()\n",
    "\n",
    "fig.suptitle(\"Tweet #1 Positive State Sentiment by 2016 Trump State Vote Share\", fontsize=16, fontweight=\"bold\")\n",
    "\n",
    "ax.set_xlim(0, 1)\n",
    "ax.set_ylim(0, 1)\n",
    "\n",
    "ax.set_xlabel(\"Trump Vote Proportion by State\")\n",
    "ax.set_ylabel(\"Positive State Sentiment\")\n",
    "\n",
    "ax.plot(x_axis, y_axis, linewidth=0, marker='o')\n",
    "ax.plot(x_axis, fit, 'b--')\n",
    "\n",
    "plt.grid()\n",
    "\n",
    "plt.show()\n",
    "\n"
   ]
  },
  {
   "cell_type": "code",
   "execution_count": 192,
   "metadata": {},
   "outputs": [
    {
     "data": {
      "text/plain": [
       "(-1, 1)"
      ]
     },
     "execution_count": 192,
     "metadata": {},
     "output_type": "execute_result"
    },
    {
     "data": {
      "image/png": "[encoded data removed]",
      "text/plain": [
       "<matplotlib.figure.Figure at 0x1a512c8fd0>"
      ]
     },
     "metadata": {},
     "output_type": "display_data"
    }
   ],
   "source": [
    "state_bar = otweet_sentiment['State']\n",
    "state_compound = otweet_sentiment['compound']\n",
    "x_axis = np.arange(0, len(state_bar), 1)\n",
    "plt.bar(x_axis, state_compound, align=\"center\")\n",
    "# Set x axis tick locations\n",
    "tick_locations = [value+.1 for value in x_axis]\n",
    "plt.xticks(tick_locations, state_bar)\n",
    "\n",
    "\n",
    "\n",
    "# Set the limits of the x axis\n",
    "plt.xlim(-0.5, len(x_axis))\n",
    "\n",
    "# Set the limits of the y axis\n",
    "plt.ylim(-1, 1)"
   ]
  },
  {
   "cell_type": "code",
   "execution_count": 195,
   "metadata": {},
   "outputs": [],
   "source": [
    "tweet_2_06_12_18 = f'Its time for another #MAGA rally. Join me in Duluth, Minnesota on Wednesday, June 20th at 6:30pm! Tickets➜http://donaldjtrump.com/rallies/duluth-mn-june-2018 …'\n",
    "results = analyzer.polarity_scores(tweet_2_06_12_18)\n",
    "pos = results[\"pos\"]\n",
    "neg = results[\"neg\"]\n",
    "neu = results[\"neu\"]\n",
    "comp = results[\"compound\"]"
   ]
  },
  {
   "cell_type": "code",
   "execution_count": 197,
   "metadata": {},
   "outputs": [
    {
     "data": {
      "text/plain": [
       "0.69"
      ]
     },
     "execution_count": 197,
     "metadata": {},
     "output_type": "execute_result"
    }
   ],
   "source": [
    "comp "
   ]
  },
  {
   "cell_type": "code",
   "execution_count": 198,
   "metadata": {},
   "outputs": [
    {
     "data": {
      "text/plain": [
       "0.141"
      ]
     },
     "execution_count": 198,
     "metadata": {},
     "output_type": "execute_result"
    }
   ],
   "source": [
    "pos"
   ]
  },
  {
   "cell_type": "code",
   "execution_count": 199,
   "metadata": {},
   "outputs": [
    {
     "data": {
      "text/plain": [
       "0.057"
      ]
     },
     "execution_count": 199,
     "metadata": {},
     "output_type": "execute_result"
    }
   ],
   "source": [
    "neg"
   ]
  },
  {
   "cell_type": "code",
   "execution_count": 200,
   "metadata": {},
   "outputs": [
    {
     "data": {
      "text/plain": [
       "0.802"
      ]
     },
     "execution_count": 200,
     "metadata": {},
     "output_type": "execute_result"
    }
   ],
   "source": [
    "neu"
   ]
  },
  {
   "cell_type": "code",
   "execution_count": 219,
   "metadata": {},
   "outputs": [
    {
     "data": {
      "text/html": [
       "<div>\n",
       "<style scoped>\n",
       "    .dataframe tbody tr th:only-of-type {\n",
       "        vertical-align: middle;\n",
       "    }\n",
       "\n",
       "    .dataframe tbody tr th {\n",
       "        vertical-align: top;\n",
       "    }\n",
       "\n",
       "    .dataframe thead th {\n",
       "        text-align: right;\n",
       "    }\n",
       "</style>\n",
       "<table border=\"1\" class=\"dataframe\">\n",
       "  <thead>\n",
       "    <tr style=\"text-align: right;\">\n",
       "      <th></th>\n",
       "      <th>location</th>\n",
       "      <th>compound</th>\n",
       "    </tr>\n",
       "  </thead>\n",
       "  <tbody>\n",
       "    <tr>\n",
       "      <th>0</th>\n",
       "      <td>AZ</td>\n",
       "      <td>0.000000</td>\n",
       "    </tr>\n",
       "    <tr>\n",
       "      <th>1</th>\n",
       "      <td>CA</td>\n",
       "      <td>0.200108</td>\n",
       "    </tr>\n",
       "    <tr>\n",
       "      <th>2</th>\n",
       "      <td>CO</td>\n",
       "      <td>0.294304</td>\n",
       "    </tr>\n",
       "    <tr>\n",
       "      <th>3</th>\n",
       "      <td>CT</td>\n",
       "      <td>-0.086900</td>\n",
       "    </tr>\n",
       "    <tr>\n",
       "      <th>4</th>\n",
       "      <td>DC</td>\n",
       "      <td>-0.140571</td>\n",
       "    </tr>\n",
       "    <tr>\n",
       "      <th>5</th>\n",
       "      <td>DE</td>\n",
       "      <td>0.000000</td>\n",
       "    </tr>\n",
       "    <tr>\n",
       "      <th>6</th>\n",
       "      <td>FL</td>\n",
       "      <td>0.000000</td>\n",
       "    </tr>\n",
       "    <tr>\n",
       "      <th>7</th>\n",
       "      <td>IL</td>\n",
       "      <td>-0.558956</td>\n",
       "    </tr>\n",
       "    <tr>\n",
       "      <th>8</th>\n",
       "      <td>IN</td>\n",
       "      <td>0.735100</td>\n",
       "    </tr>\n",
       "    <tr>\n",
       "      <th>9</th>\n",
       "      <td>KS</td>\n",
       "      <td>0.000000</td>\n",
       "    </tr>\n",
       "    <tr>\n",
       "      <th>10</th>\n",
       "      <td>LA</td>\n",
       "      <td>-0.634400</td>\n",
       "    </tr>\n",
       "    <tr>\n",
       "      <th>11</th>\n",
       "      <td>MD</td>\n",
       "      <td>-0.767281</td>\n",
       "    </tr>\n",
       "    <tr>\n",
       "      <th>12</th>\n",
       "      <td>MI</td>\n",
       "      <td>-0.599400</td>\n",
       "    </tr>\n",
       "    <tr>\n",
       "      <th>13</th>\n",
       "      <td>MO</td>\n",
       "      <td>-0.352700</td>\n",
       "    </tr>\n",
       "    <tr>\n",
       "      <th>14</th>\n",
       "      <td>NJ</td>\n",
       "      <td>-0.257294</td>\n",
       "    </tr>\n",
       "    <tr>\n",
       "      <th>15</th>\n",
       "      <td>NM</td>\n",
       "      <td>-0.421500</td>\n",
       "    </tr>\n",
       "    <tr>\n",
       "      <th>16</th>\n",
       "      <td>NV</td>\n",
       "      <td>-0.588326</td>\n",
       "    </tr>\n",
       "    <tr>\n",
       "      <th>17</th>\n",
       "      <td>NY</td>\n",
       "      <td>0.234343</td>\n",
       "    </tr>\n",
       "    <tr>\n",
       "      <th>18</th>\n",
       "      <td>OH</td>\n",
       "      <td>-0.218585</td>\n",
       "    </tr>\n",
       "    <tr>\n",
       "      <th>19</th>\n",
       "      <td>OK</td>\n",
       "      <td>-0.927700</td>\n",
       "    </tr>\n",
       "    <tr>\n",
       "      <th>20</th>\n",
       "      <td>OR</td>\n",
       "      <td>-0.440400</td>\n",
       "    </tr>\n",
       "    <tr>\n",
       "      <th>21</th>\n",
       "      <td>PA</td>\n",
       "      <td>0.114359</td>\n",
       "    </tr>\n",
       "    <tr>\n",
       "      <th>22</th>\n",
       "      <td>TX</td>\n",
       "      <td>-0.715726</td>\n",
       "    </tr>\n",
       "    <tr>\n",
       "      <th>23</th>\n",
       "      <td>VA</td>\n",
       "      <td>-0.458800</td>\n",
       "    </tr>\n",
       "    <tr>\n",
       "      <th>24</th>\n",
       "      <td>WA</td>\n",
       "      <td>-0.158655</td>\n",
       "    </tr>\n",
       "  </tbody>\n",
       "</table>\n",
       "</div>"
      ],
      "text/plain": [
       "   location  compound\n",
       "0        AZ  0.000000\n",
       "1        CA  0.200108\n",
       "2        CO  0.294304\n",
       "3        CT -0.086900\n",
       "4        DC -0.140571\n",
       "5        DE  0.000000\n",
       "6        FL  0.000000\n",
       "7        IL -0.558956\n",
       "8        IN  0.735100\n",
       "9        KS  0.000000\n",
       "10       LA -0.634400\n",
       "11       MD -0.767281\n",
       "12       MI -0.599400\n",
       "13       MO -0.352700\n",
       "14       NJ -0.257294\n",
       "15       NM -0.421500\n",
       "16       NV -0.588326\n",
       "17       NY  0.234343\n",
       "18       OH -0.218585\n",
       "19       OK -0.927700\n",
       "20       OR -0.440400\n",
       "21       PA  0.114359\n",
       "22       TX -0.715726\n",
       "23       VA -0.458800\n",
       "24       WA -0.158655"
      ]
     },
     "execution_count": 219,
     "metadata": {},
     "output_type": "execute_result"
    }
   ],
   "source": [
    "state_compound_fakenews"
   ]
  },
  {
   "cell_type": "code",
   "execution_count": 228,
   "metadata": {},
   "outputs": [],
   "source": [
    "tweet_fakenews = pd.read_csv('state_fakenews_df.csv')"
   ]
  },
  {
   "cell_type": "code",
   "execution_count": 240,
   "metadata": {},
   "outputs": [],
   "source": [
    "tweet_fakenews\n",
    "\n",
    "None"
   ]
  },
  {
   "cell_type": "code",
   "execution_count": 231,
   "metadata": {},
   "outputs": [
    {
     "data": {
      "image/png": "[encoded data removed]",
      "text/plain": [
       "<matplotlib.figure.Figure at 0x1a519c0898>"
      ]
     },
     "metadata": {},
     "output_type": "display_data"
    }
   ],
   "source": [
    "# Set data\n",
    "x_axis = tweet_fakenews['TrumpVote']\n",
    "y_axis= tweet_fakenews['pos']\n",
    "\n",
    "# Set line\n",
    "(slope, intercept, _, _, _) = linregress(x_axis, y_axis)\n",
    "fit = slope * x_axis + intercept\n",
    "\n",
    "# Plot data\n",
    "fig, ax = plt.subplots()\n",
    "\n",
    "fig.suptitle(\"Tweet #4 Positive State Sentiment by 2016 Trump State Vote Share\", fontsize=16, fontweight=\"bold\")\n",
    "\n",
    "ax.set_xlim(0, 1)\n",
    "ax.set_ylim(0, 1)\n",
    "\n",
    "ax.set_xlabel(\"Trump Vote Proportion by State\")\n",
    "ax.set_ylabel(\"Positive State Sentiment\")\n",
    "\n",
    "ax.plot(x_axis, y_axis, linewidth=0, marker='o')\n",
    "ax.plot(x_axis, fit, 'b--')\n",
    "\n",
    "plt.grid()\n",
    "\n",
    "plt.show()\n",
    "\n"
   ]
  },
  {
   "cell_type": "code",
   "execution_count": 232,
   "metadata": {},
   "outputs": [
    {
     "data": {
      "image/png": "[encoded data removed]",
      "text/plain": [
       "<matplotlib.figure.Figure at 0x1327f0748>"
      ]
     },
     "metadata": {},
     "output_type": "display_data"
    }
   ],
   "source": [
    "# Set data\n",
    "x_axis = tweet_fakenews['TrumpVote']\n",
    "y_axis= tweet_fakenews['neg']\n",
    "\n",
    "# Set line\n",
    "(slope, intercept, _, _, _) = linregress(x_axis, y_axis)\n",
    "fit = slope * x_axis + intercept\n",
    "\n",
    "# Plot data\n",
    "fig, ax = plt.subplots()\n",
    "\n",
    "fig.suptitle(\"Tweet #4 Negative State Sentiment by 2016 Trump State Vote Share\", fontsize=16, fontweight=\"bold\")\n",
    "\n",
    "ax.set_xlim(0, 1)\n",
    "ax.set_ylim(0, 1)\n",
    "\n",
    "ax.set_xlabel(\"Trump Vote Proportion by State\")\n",
    "ax.set_ylabel(\"Negative State Sentiment\")\n",
    "\n",
    "ax.plot(x_axis, y_axis, linewidth=0, marker='o')\n",
    "ax.plot(x_axis, fit, 'b--')\n",
    "\n",
    "plt.grid()\n",
    "\n",
    "plt.show()\n",
    "\n"
   ]
  },
  {
   "cell_type": "code",
   "execution_count": 233,
   "metadata": {},
   "outputs": [
    {
     "data": {
      "image/png": "[encoded data removed]",
      "text/plain": [
       "<matplotlib.figure.Figure at 0x13143db00>"
      ]
     },
     "metadata": {},
     "output_type": "display_data"
    }
   ],
   "source": [
    "# Set data\n",
    "x_axis = tweet_fakenews['TrumpVote']\n",
    "y_axis= tweet_fakenews['compound']\n",
    "\n",
    "# Set line\n",
    "(slope, intercept, _, _, _) = linregress(x_axis, y_axis)\n",
    "fit = slope * x_axis + intercept\n",
    "\n",
    "# Plot data\n",
    "fig, ax = plt.subplots()\n",
    "\n",
    "fig.suptitle(\"Tweet #4 Negative State Sentiment by 2016 Trump State Vote Share\", fontsize=16, fontweight=\"bold\")\n",
    "\n",
    "ax.set_xlim(0, 1)\n",
    "ax.set_ylim(0, 1)\n",
    "\n",
    "ax.set_xlabel(\"Trump Vote Proportion by State\")\n",
    "ax.set_ylabel(\"Negative State Sentiment\")\n",
    "\n",
    "ax.plot(x_axis, y_axis, linewidth=0, marker='o')\n",
    "ax.plot(x_axis, fit, 'b--')\n",
    "\n",
    "plt.grid()\n",
    "\n",
    "plt.show()\n",
    "\n"
   ]
  },
  {
   "cell_type": "code",
   "execution_count": null,
   "metadata": {},
   "outputs": [],
   "source": []
  },
  {
   "cell_type": "code",
   "execution_count": null,
   "metadata": {},
   "outputs": [],
   "source": []
  }
 ],
 "metadata": {
  "kernelspec": {
   "display_name": "Python 3",
   "language": "python",
   "name": "python3"
  },
  "language_info": {
   "codemirror_mode": {
    "name": "ipython",
    "version": 3
   },
   "file_extension": ".py",
   "mimetype": "text/x-python",
   "name": "python",
   "nbconvert_exporter": "python",
   "pygments_lexer": "ipython3",
   "version": "3.6.4"
  }
 },
 "nbformat": 4,
 "nbformat_minor": 2
}
